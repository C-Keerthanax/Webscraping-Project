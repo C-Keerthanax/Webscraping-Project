{
 "cells": [
  {
   "cell_type": "code",
   "execution_count": 1,
   "id": "e2d1b814-cab1-4fd2-adcc-2e7ee7a0331e",
   "metadata": {},
   "outputs": [],
   "source": [
    "#pip install requests"
   ]
  },
  {
   "cell_type": "code",
   "execution_count": 2,
   "id": "d07a8fa7-9e7a-4ce2-b1cf-bdf03e3a624f",
   "metadata": {},
   "outputs": [],
   "source": [
    "#pip install bs4"
   ]
  },
  {
   "cell_type": "code",
   "execution_count": 3,
   "id": "0136e1cf-0fcc-4cff-bdbb-6dd50389f923",
   "metadata": {},
   "outputs": [],
   "source": [
    "import requests\n",
    "import bs4"
   ]
  },
  {
   "cell_type": "code",
   "execution_count": 4,
   "id": "5f64029b-14a2-466f-a166-edddb4908535",
   "metadata": {},
   "outputs": [],
   "source": [
    "url=\"https://www.makaan.com/hyderabad-residential-property/buy-property-in-hyderabad-city\""
   ]
  },
  {
   "cell_type": "code",
   "execution_count": 5,
   "id": "c075c22f-d17b-4a12-afb0-885bbbedb3f6",
   "metadata": {},
   "outputs": [
    {
     "data": {
      "text/plain": [
       "<Response [200]>"
      ]
     },
     "execution_count": 5,
     "metadata": {},
     "output_type": "execute_result"
    }
   ],
   "source": [
    "data=requests.get(url)\n",
    "data"
   ]
  },
  {
   "cell_type": "code",
   "execution_count": 6,
   "id": "6be35669-a2f2-4427-9c6c-e667c67aaa2b",
   "metadata": {},
   "outputs": [
    {
     "data": {
      "text/plain": [
       "str"
      ]
     },
     "execution_count": 6,
     "metadata": {},
     "output_type": "execute_result"
    }
   ],
   "source": [
    "type(data.text)"
   ]
  },
  {
   "cell_type": "code",
   "execution_count": 7,
   "id": "d0a54bab-b0e2-488b-ba37-d94b3bfff912",
   "metadata": {},
   "outputs": [],
   "source": [
    "from bs4 import BeautifulSoup"
   ]
  },
  {
   "cell_type": "code",
   "execution_count": 8,
   "id": "cb92c84d-e78d-4290-85dc-da0a2b040ed2",
   "metadata": {},
   "outputs": [],
   "source": [
    "soup= BeautifulSoup(data.text,\"html\")"
   ]
  },
  {
   "cell_type": "code",
   "execution_count": 11,
   "id": "1838ac68-17a8-4d3d-a4a3-4ee3ac91a7e2",
   "metadata": {},
   "outputs": [
    {
     "data": {
      "text/plain": [
       "'3 BHK Apartment in Kalyan Skyway 9'"
      ]
     },
     "execution_count": 11,
     "metadata": {},
     "output_type": "execute_result"
    }
   ],
   "source": [
    "soup.find('div',attrs={\"class\":\"title-line\"}).text"
   ]
  },
  {
   "cell_type": "code",
   "execution_count": 28,
   "id": "917ac5d3-30fb-463b-b09d-d5aa60a1db9e",
   "metadata": {},
   "outputs": [
    {
     "data": {
      "text/plain": [
       "'Manchirevula'"
      ]
     },
     "execution_count": 28,
     "metadata": {},
     "output_type": "execute_result"
    }
   ],
   "source": [
    "soup.find('span',attrs={\"itemprop\":\"addressLocality\"}).text"
   ]
  },
  {
   "cell_type": "code",
   "execution_count": 16,
   "id": "2896d720-7394-4e1f-9e0e-6011902204d7",
   "metadata": {},
   "outputs": [
    {
     "data": {
      "text/plain": [
       "'6,800 / sq ft'"
      ]
     },
     "execution_count": 16,
     "metadata": {},
     "output_type": "execute_result"
    }
   ],
   "source": [
    "soup.find('td',attrs={\"class\":\"lbl rate\"}).text"
   ]
  },
  {
   "cell_type": "code",
   "execution_count": 31,
   "id": "2a341b34-895b-4e50-a2be-c376699a8965",
   "metadata": {},
   "outputs": [
    {
     "data": {
      "text/plain": [
       "' 1.46 Cr'"
      ]
     },
     "execution_count": 31,
     "metadata": {},
     "output_type": "execute_result"
    }
   ],
   "source": [
    "soup.find('div',attrs={\"data-type\":\"price-link\"}).text"
   ]
  },
  {
   "cell_type": "code",
   "execution_count": 22,
   "id": "ef22d62f-29c7-48fb-8c8c-51a8d1b810ea",
   "metadata": {},
   "outputs": [
    {
     "data": {
      "text/plain": [
       "'2150 '"
      ]
     },
     "execution_count": 22,
     "metadata": {},
     "output_type": "execute_result"
    }
   ],
   "source": [
    "soup.find('td',attrs={\"class\":\"size\"}).text"
   ]
  },
  {
   "cell_type": "code",
   "execution_count": 25,
   "id": "7ae41354-fe71-48f2-9565-35f2c5182180",
   "metadata": {},
   "outputs": [
    {
     "data": {
      "text/plain": [
       "'Ready to move'"
      ]
     },
     "execution_count": 25,
     "metadata": {},
     "output_type": "execute_result"
    }
   ],
   "source": [
    "soup.find('td',attrs={\"class\":\"val\"}).text"
   ]
  },
  {
   "cell_type": "code",
   "execution_count": 35,
   "id": "8ac3b0db-41b0-4928-b5f4-922723107534",
   "metadata": {},
   "outputs": [],
   "source": [
    "prop = soup.find_all('div',attrs={\"class\":\"title-line\"})"
   ]
  },
  {
   "cell_type": "code",
   "execution_count": 50,
   "id": "d7a11de0-6711-4c11-9d47-7842781bbc5f",
   "metadata": {},
   "outputs": [],
   "source": [
    "prop_name=[]\n",
    "for i in prop:\n",
    "    prop_name.append(i.text)#If we print just i it will be clumsy"
   ]
  },
  {
   "cell_type": "code",
   "execution_count": 48,
   "id": "99cca112-21db-4867-b53f-a605cc8cb40c",
   "metadata": {},
   "outputs": [
    {
     "data": {
      "text/plain": [
       "['3 BHK Apartment in Kalyan Skyway 9',\n",
       " '2 BHK Apartment in MKT Urban Tree',\n",
       " '2 BHK Apartment in Sumadhura Gardens By The Brook',\n",
       " '3 BHK Apartment in Gk Zenith',\n",
       " '2 BHK Apartment in Maram Mihira',\n",
       " '3 BHK Apartment in Anuhar Gautami Heights',\n",
       " '3 BHK Apartment in Adhireddy Pavan Kumar Reddy Cozy Essence Elite',\n",
       " '3 BHK Apartment in Vasavi BHUVI BY VASAVI BUILDOX',\n",
       " '3 BHK Apartment in Vasavi Construction Metropolis',\n",
       " '2 BHK Apartment in Divine Space',\n",
       " '4 BHK Villa in Cloudswood RADHEY RAAGA',\n",
       " '3 BHK Apartment in Vision Visions Arsha',\n",
       " '2 BHK Apartment in Akruthi Srivatsa',\n",
       " '4 BHK Apartment in RAGHURAM PRADEEP CONSTRUCTIONS The Vue Residences',\n",
       " '3 BHK Apartment in Pranathi Kiara',\n",
       " '2 BHK Apartment in Janapriya Nile Valley',\n",
       " '4 BHK Apartment in Trishala Trilok',\n",
       " '3 BHK Apartment in Aakriti Cyan',\n",
       " '3 BHK Apartment in ARR Avencia',\n",
       " '3 BHK Apartment in Makuta Projects My Space 2']"
      ]
     },
     "execution_count": 48,
     "metadata": {},
     "output_type": "execute_result"
    }
   ],
   "source": [
    "prop_name"
   ]
  },
  {
   "cell_type": "code",
   "execution_count": 78,
   "id": "c50ee8f6-7f96-4670-9fbd-24f253018774",
   "metadata": {},
   "outputs": [
    {
     "name": "stdout",
     "output_type": "stream",
     "text": [
      "3 BHK Apartment in Kalyan Skyway 9\n",
      "2 BHK Apartment in MKT Urban Tree\n",
      "2 BHK Apartment in Sumadhura Gardens By The Brook\n",
      "3 BHK Apartment in Gk Zenith\n",
      "2 BHK Apartment in Maram Mihira\n",
      "3 BHK Apartment in Anuhar Gautami Heights\n",
      "3 BHK Apartment in Adhireddy Pavan Kumar Reddy Cozy Essence Elite\n",
      "3 BHK Apartment in Vasavi BHUVI BY VASAVI BUILDOX\n",
      "3 BHK Apartment in Vasavi Construction Metropolis\n",
      "2 BHK Apartment in Divine Space\n",
      "4 BHK Villa in Cloudswood RADHEY RAAGA\n",
      "3 BHK Apartment in Vision Visions Arsha\n",
      "2 BHK Apartment in Akruthi Srivatsa\n",
      "4 BHK Apartment in RAGHURAM PRADEEP CONSTRUCTIONS The Vue Residences\n",
      "3 BHK Apartment in Pranathi Kiara\n",
      "2 BHK Apartment in Janapriya Nile Valley\n",
      "4 BHK Apartment in Trishala Trilok\n",
      "3 BHK Apartment in Aakriti Cyan\n",
      "3 BHK Apartment in ARR Avencia\n",
      "3 BHK Apartment in Makuta Projects My Space 2\n",
      "20\n"
     ]
    }
   ],
   "source": [
    "a=[i.text for i in prop]\n",
    "print(\"\\n\".join(a))\n",
    "print(len(a))"
   ]
  },
  {
   "cell_type": "code",
   "execution_count": 79,
   "id": "af59783b-e3b1-4ff4-bcaa-a725bab8dae6",
   "metadata": {},
   "outputs": [
    {
     "name": "stdout",
     "output_type": "stream",
     "text": [
      "Manchirevula\n",
      "Isnapur\n",
      "Shamshabad\n",
      "Yapral\n",
      "Pocharam\n",
      "Miyapur\n",
      "Kompally\n",
      "Gundlapochampally\n",
      "Uppal Kalan\n",
      "Tellapur\n",
      "Patighanpur\n",
      "Tellapur\n",
      "Mallampet\n",
      "Puppalaguda\n",
      "Tellapur\n",
      "Madeenaguda\n",
      "Shamshabad\n",
      "Tellapur\n",
      "Bachupally\n",
      "Bachupally\n",
      "20\n"
     ]
    }
   ],
   "source": [
    "loc=soup.find_all('span',attrs={\"itemprop\":\"addressLocality\"})\n",
    "b=[i.text for i in loc]\n",
    "print(\"\\n\".join(b))\n",
    "print(len(b))"
   ]
  },
  {
   "cell_type": "code",
   "execution_count": 80,
   "id": "ea41b0e6-b8be-4ffe-902d-bd480b431ff2",
   "metadata": {},
   "outputs": [
    {
     "name": "stdout",
     "output_type": "stream",
     "text": [
      "6,800 / sq ft\n",
      "4,200 / sq ft\n",
      "8,022 / sq ft\n",
      "6,000 / sq ft\n",
      "5,055 / sq ft\n",
      "7,000 / sq ft\n",
      "4,500 / sq ft\n",
      "5,400 / sq ft\n",
      "6,299 / sq ft\n",
      "6,899 / sq ft\n",
      "14,999 / sq ft\n",
      "7,299 / sq ft\n",
      "5,000 / sq ft\n",
      "10,891 / sq ft\n",
      "6,299 / sq ft\n",
      "6,400 / sq ft\n",
      "6,500 / sq ft\n",
      "6,499 / sq ft\n",
      "6,000 / sq ft\n",
      "6,502 / sq ft\n",
      "20\n"
     ]
    }
   ],
   "source": [
    "feet = soup.find_all('td',attrs={\"class\":\"lbl rate\"})\n",
    "c=[i.text for i in feet]\n",
    "print(\"\\n\".join(c))\n",
    "print(len(c))"
   ]
  },
  {
   "cell_type": "code",
   "execution_count": 81,
   "id": "52d47d4c-922e-47ef-90dd-4af4d1e9a0e5",
   "metadata": {},
   "outputs": [
    {
     "name": "stdout",
     "output_type": "stream",
     "text": [
      " 1.46 Cr\n",
      " 42.33 L\n",
      " 1.27 Cr\n",
      " 1.04 Cr\n",
      " 62.93 L\n",
      " 1.37 Cr\n",
      " 90.22 L\n",
      " 1.28 Cr\n",
      " 86.92 L\n",
      " 1.01 Cr\n",
      " 6.89 Cr\n",
      " 1.45 Cr\n",
      " 61 L\n",
      " 4.04 Cr\n",
      " 1.23 Cr\n",
      " 63.36 L\n",
      " 2.69 Cr\n",
      " 1.17 Cr\n",
      " 93 L\n",
      " 1.26 Cr\n",
      "20\n"
     ]
    }
   ],
   "source": [
    "price=soup.find_all('div',attrs={\"data-type\":\"price-link\"})\n",
    "d=[i.text for i in price]\n",
    "print(\"\\n\".join(d))\n",
    "print(len(d))"
   ]
  },
  {
   "cell_type": "code",
   "execution_count": 82,
   "id": "26f40918-c438-44fb-be51-15600934e292",
   "metadata": {},
   "outputs": [
    {
     "name": "stdout",
     "output_type": "stream",
     "text": [
      "2150 \n",
      "1008 \n",
      "1590 \n",
      "1735 \n",
      "1245 \n",
      "1968 \n",
      "2005 \n",
      "2385 \n",
      "1380 \n",
      "1465 \n",
      "4596 \n",
      "2000 \n",
      "1220 \n",
      "3715 \n",
      "1965 \n",
      "990 \n",
      "4150 \n",
      "1813 \n",
      "1550 \n",
      "1946 \n",
      "20\n"
     ]
    }
   ],
   "source": [
    "area = soup.find_all('td',attrs={\"class\":\"size\"})\n",
    "e=[i.text for i in area]\n",
    "print(\"\\n\".join(e))\n",
    "print(len(e))"
   ]
  },
  {
   "cell_type": "code",
   "execution_count": 83,
   "id": "e0bc3343-f40c-43bd-ad6a-a9fc80248e8f",
   "metadata": {},
   "outputs": [
    {
     "name": "stdout",
     "output_type": "stream",
     "text": [
      "Ready to move\n",
      "Ready to move\n",
      "Under Construction\n",
      "Ready to move\n",
      "Under Construction\n",
      "Under Construction\n",
      "Ready to move\n",
      "Under Construction\n",
      "Under Construction\n",
      "Under Construction\n",
      "Under Construction\n",
      "Under Construction\n",
      "Under Construction\n",
      "Under Construction\n",
      "Under Construction\n",
      "Under Construction\n",
      "Under Construction\n",
      "Under Construction\n",
      "Ready to move\n",
      "Under Construction\n",
      "20\n"
     ]
    }
   ],
   "source": [
    "avaliab=soup.find_all('td',attrs={\"class\":\"val\"})\n",
    "f=[i.text for i in avaliab]\n",
    "print(\"\\n\".join(f))\n",
    "print(len(f))"
   ]
  },
  {
   "cell_type": "code",
   "execution_count": 84,
   "id": "3703ebdf-186c-4ead-b366-78fba8f3c85d",
   "metadata": {},
   "outputs": [],
   "source": [
    "import pandas as pd"
   ]
  },
  {
   "cell_type": "code",
   "execution_count": 85,
   "id": "aab2b2f5-9712-42fb-b975-a7fc81428a15",
   "metadata": {},
   "outputs": [
    {
     "data": {
      "text/html": [
       "<div>\n",
       "<style scoped>\n",
       "    .dataframe tbody tr th:only-of-type {\n",
       "        vertical-align: middle;\n",
       "    }\n",
       "\n",
       "    .dataframe tbody tr th {\n",
       "        vertical-align: top;\n",
       "    }\n",
       "\n",
       "    .dataframe thead th {\n",
       "        text-align: right;\n",
       "    }\n",
       "</style>\n",
       "<table border=\"1\" class=\"dataframe\">\n",
       "  <thead>\n",
       "    <tr style=\"text-align: right;\">\n",
       "      <th></th>\n",
       "      <th>a</th>\n",
       "      <th>b</th>\n",
       "      <th>c</th>\n",
       "      <th>d</th>\n",
       "      <th>e</th>\n",
       "      <th>f</th>\n",
       "    </tr>\n",
       "  </thead>\n",
       "  <tbody>\n",
       "    <tr>\n",
       "      <th>0</th>\n",
       "      <td>3 BHK Apartment in Kalyan Skyway 9</td>\n",
       "      <td>Manchirevula</td>\n",
       "      <td>6,800 / sq ft</td>\n",
       "      <td>1.46 Cr</td>\n",
       "      <td>2150</td>\n",
       "      <td>Ready to move</td>\n",
       "    </tr>\n",
       "    <tr>\n",
       "      <th>1</th>\n",
       "      <td>2 BHK Apartment in MKT Urban Tree</td>\n",
       "      <td>Isnapur</td>\n",
       "      <td>4,200 / sq ft</td>\n",
       "      <td>42.33 L</td>\n",
       "      <td>1008</td>\n",
       "      <td>Ready to move</td>\n",
       "    </tr>\n",
       "    <tr>\n",
       "      <th>2</th>\n",
       "      <td>2 BHK Apartment in Sumadhura Gardens By The Brook</td>\n",
       "      <td>Shamshabad</td>\n",
       "      <td>8,022 / sq ft</td>\n",
       "      <td>1.27 Cr</td>\n",
       "      <td>1590</td>\n",
       "      <td>Under Construction</td>\n",
       "    </tr>\n",
       "    <tr>\n",
       "      <th>3</th>\n",
       "      <td>3 BHK Apartment in Gk Zenith</td>\n",
       "      <td>Yapral</td>\n",
       "      <td>6,000 / sq ft</td>\n",
       "      <td>1.04 Cr</td>\n",
       "      <td>1735</td>\n",
       "      <td>Ready to move</td>\n",
       "    </tr>\n",
       "    <tr>\n",
       "      <th>4</th>\n",
       "      <td>2 BHK Apartment in Maram Mihira</td>\n",
       "      <td>Pocharam</td>\n",
       "      <td>5,055 / sq ft</td>\n",
       "      <td>62.93 L</td>\n",
       "      <td>1245</td>\n",
       "      <td>Under Construction</td>\n",
       "    </tr>\n",
       "    <tr>\n",
       "      <th>5</th>\n",
       "      <td>3 BHK Apartment in Anuhar Gautami Heights</td>\n",
       "      <td>Miyapur</td>\n",
       "      <td>7,000 / sq ft</td>\n",
       "      <td>1.37 Cr</td>\n",
       "      <td>1968</td>\n",
       "      <td>Under Construction</td>\n",
       "    </tr>\n",
       "    <tr>\n",
       "      <th>6</th>\n",
       "      <td>3 BHK Apartment in Adhireddy Pavan Kumar Reddy...</td>\n",
       "      <td>Kompally</td>\n",
       "      <td>4,500 / sq ft</td>\n",
       "      <td>90.22 L</td>\n",
       "      <td>2005</td>\n",
       "      <td>Ready to move</td>\n",
       "    </tr>\n",
       "    <tr>\n",
       "      <th>7</th>\n",
       "      <td>3 BHK Apartment in Vasavi BHUVI BY VASAVI BUILDOX</td>\n",
       "      <td>Gundlapochampally</td>\n",
       "      <td>5,400 / sq ft</td>\n",
       "      <td>1.28 Cr</td>\n",
       "      <td>2385</td>\n",
       "      <td>Under Construction</td>\n",
       "    </tr>\n",
       "    <tr>\n",
       "      <th>8</th>\n",
       "      <td>3 BHK Apartment in Vasavi Construction Metropolis</td>\n",
       "      <td>Uppal Kalan</td>\n",
       "      <td>6,299 / sq ft</td>\n",
       "      <td>86.92 L</td>\n",
       "      <td>1380</td>\n",
       "      <td>Under Construction</td>\n",
       "    </tr>\n",
       "    <tr>\n",
       "      <th>9</th>\n",
       "      <td>2 BHK Apartment in Divine Space</td>\n",
       "      <td>Tellapur</td>\n",
       "      <td>6,899 / sq ft</td>\n",
       "      <td>1.01 Cr</td>\n",
       "      <td>1465</td>\n",
       "      <td>Under Construction</td>\n",
       "    </tr>\n",
       "    <tr>\n",
       "      <th>10</th>\n",
       "      <td>4 BHK Villa in Cloudswood RADHEY RAAGA</td>\n",
       "      <td>Patighanpur</td>\n",
       "      <td>14,999 / sq ft</td>\n",
       "      <td>6.89 Cr</td>\n",
       "      <td>4596</td>\n",
       "      <td>Under Construction</td>\n",
       "    </tr>\n",
       "    <tr>\n",
       "      <th>11</th>\n",
       "      <td>3 BHK Apartment in Vision Visions Arsha</td>\n",
       "      <td>Tellapur</td>\n",
       "      <td>7,299 / sq ft</td>\n",
       "      <td>1.45 Cr</td>\n",
       "      <td>2000</td>\n",
       "      <td>Under Construction</td>\n",
       "    </tr>\n",
       "    <tr>\n",
       "      <th>12</th>\n",
       "      <td>2 BHK Apartment in Akruthi Srivatsa</td>\n",
       "      <td>Mallampet</td>\n",
       "      <td>5,000 / sq ft</td>\n",
       "      <td>61 L</td>\n",
       "      <td>1220</td>\n",
       "      <td>Under Construction</td>\n",
       "    </tr>\n",
       "    <tr>\n",
       "      <th>13</th>\n",
       "      <td>4 BHK Apartment in RAGHURAM PRADEEP CONSTRUCTI...</td>\n",
       "      <td>Puppalaguda</td>\n",
       "      <td>10,891 / sq ft</td>\n",
       "      <td>4.04 Cr</td>\n",
       "      <td>3715</td>\n",
       "      <td>Under Construction</td>\n",
       "    </tr>\n",
       "    <tr>\n",
       "      <th>14</th>\n",
       "      <td>3 BHK Apartment in Pranathi Kiara</td>\n",
       "      <td>Tellapur</td>\n",
       "      <td>6,299 / sq ft</td>\n",
       "      <td>1.23 Cr</td>\n",
       "      <td>1965</td>\n",
       "      <td>Under Construction</td>\n",
       "    </tr>\n",
       "    <tr>\n",
       "      <th>15</th>\n",
       "      <td>2 BHK Apartment in Janapriya Nile Valley</td>\n",
       "      <td>Madeenaguda</td>\n",
       "      <td>6,400 / sq ft</td>\n",
       "      <td>63.36 L</td>\n",
       "      <td>990</td>\n",
       "      <td>Under Construction</td>\n",
       "    </tr>\n",
       "    <tr>\n",
       "      <th>16</th>\n",
       "      <td>4 BHK Apartment in Trishala Trilok</td>\n",
       "      <td>Shamshabad</td>\n",
       "      <td>6,500 / sq ft</td>\n",
       "      <td>2.69 Cr</td>\n",
       "      <td>4150</td>\n",
       "      <td>Under Construction</td>\n",
       "    </tr>\n",
       "    <tr>\n",
       "      <th>17</th>\n",
       "      <td>3 BHK Apartment in Aakriti Cyan</td>\n",
       "      <td>Tellapur</td>\n",
       "      <td>6,499 / sq ft</td>\n",
       "      <td>1.17 Cr</td>\n",
       "      <td>1813</td>\n",
       "      <td>Under Construction</td>\n",
       "    </tr>\n",
       "    <tr>\n",
       "      <th>18</th>\n",
       "      <td>3 BHK Apartment in ARR Avencia</td>\n",
       "      <td>Bachupally</td>\n",
       "      <td>6,000 / sq ft</td>\n",
       "      <td>93 L</td>\n",
       "      <td>1550</td>\n",
       "      <td>Ready to move</td>\n",
       "    </tr>\n",
       "    <tr>\n",
       "      <th>19</th>\n",
       "      <td>3 BHK Apartment in Makuta Projects My Space 2</td>\n",
       "      <td>Bachupally</td>\n",
       "      <td>6,502 / sq ft</td>\n",
       "      <td>1.26 Cr</td>\n",
       "      <td>1946</td>\n",
       "      <td>Under Construction</td>\n",
       "    </tr>\n",
       "  </tbody>\n",
       "</table>\n",
       "</div>"
      ],
      "text/plain": [
       "                                                    a                  b  \\\n",
       "0                  3 BHK Apartment in Kalyan Skyway 9       Manchirevula   \n",
       "1                   2 BHK Apartment in MKT Urban Tree            Isnapur   \n",
       "2   2 BHK Apartment in Sumadhura Gardens By The Brook         Shamshabad   \n",
       "3                        3 BHK Apartment in Gk Zenith             Yapral   \n",
       "4                     2 BHK Apartment in Maram Mihira           Pocharam   \n",
       "5           3 BHK Apartment in Anuhar Gautami Heights            Miyapur   \n",
       "6   3 BHK Apartment in Adhireddy Pavan Kumar Reddy...           Kompally   \n",
       "7   3 BHK Apartment in Vasavi BHUVI BY VASAVI BUILDOX  Gundlapochampally   \n",
       "8   3 BHK Apartment in Vasavi Construction Metropolis        Uppal Kalan   \n",
       "9                     2 BHK Apartment in Divine Space           Tellapur   \n",
       "10             4 BHK Villa in Cloudswood RADHEY RAAGA        Patighanpur   \n",
       "11            3 BHK Apartment in Vision Visions Arsha           Tellapur   \n",
       "12                2 BHK Apartment in Akruthi Srivatsa          Mallampet   \n",
       "13  4 BHK Apartment in RAGHURAM PRADEEP CONSTRUCTI...        Puppalaguda   \n",
       "14                  3 BHK Apartment in Pranathi Kiara           Tellapur   \n",
       "15           2 BHK Apartment in Janapriya Nile Valley        Madeenaguda   \n",
       "16                 4 BHK Apartment in Trishala Trilok         Shamshabad   \n",
       "17                    3 BHK Apartment in Aakriti Cyan           Tellapur   \n",
       "18                     3 BHK Apartment in ARR Avencia         Bachupally   \n",
       "19      3 BHK Apartment in Makuta Projects My Space 2         Bachupally   \n",
       "\n",
       "                 c         d      e                   f  \n",
       "0    6,800 / sq ft   1.46 Cr  2150        Ready to move  \n",
       "1    4,200 / sq ft   42.33 L  1008        Ready to move  \n",
       "2    8,022 / sq ft   1.27 Cr  1590   Under Construction  \n",
       "3    6,000 / sq ft   1.04 Cr  1735        Ready to move  \n",
       "4    5,055 / sq ft   62.93 L  1245   Under Construction  \n",
       "5    7,000 / sq ft   1.37 Cr  1968   Under Construction  \n",
       "6    4,500 / sq ft   90.22 L  2005        Ready to move  \n",
       "7    5,400 / sq ft   1.28 Cr  2385   Under Construction  \n",
       "8    6,299 / sq ft   86.92 L  1380   Under Construction  \n",
       "9    6,899 / sq ft   1.01 Cr  1465   Under Construction  \n",
       "10  14,999 / sq ft   6.89 Cr  4596   Under Construction  \n",
       "11   7,299 / sq ft   1.45 Cr  2000   Under Construction  \n",
       "12   5,000 / sq ft      61 L  1220   Under Construction  \n",
       "13  10,891 / sq ft   4.04 Cr  3715   Under Construction  \n",
       "14   6,299 / sq ft   1.23 Cr  1965   Under Construction  \n",
       "15   6,400 / sq ft   63.36 L   990   Under Construction  \n",
       "16   6,500 / sq ft   2.69 Cr  4150   Under Construction  \n",
       "17   6,499 / sq ft   1.17 Cr  1813   Under Construction  \n",
       "18   6,000 / sq ft      93 L  1550        Ready to move  \n",
       "19   6,502 / sq ft   1.26 Cr  1946   Under Construction  "
      ]
     },
     "execution_count": 85,
     "metadata": {},
     "output_type": "execute_result"
    }
   ],
   "source": [
    "data = pd.DataFrame({\"a\":a,\"b\":b,\"c\":c,\"d\":d,\"e\":e,\"f\":f})\n",
    "data"
   ]
  },
  {
   "cell_type": "code",
   "execution_count": 93,
   "id": "5f3bd674-6a5b-420c-8fa2-061f5594d8d3",
   "metadata": {},
   "outputs": [],
   "source": [
    "data.to_csv(\"Hyderbadapartments.csv\") #----Storing into the Excel sheet----"
   ]
  },
  {
   "cell_type": "code",
   "execution_count": 92,
   "id": "f849c62f-f37c-4c18-bb87-b543527ea9bc",
   "metadata": {},
   "outputs": [
    {
     "name": "stdout",
     "output_type": "stream",
     "text": [
      "https://www.makaan.com/hyderabad-residential-property/buy-property-in-hyderabad-city?page=0\n",
      "https://www.makaan.com/hyderabad-residential-property/buy-property-in-hyderabad-city?page=1\n",
      "https://www.makaan.com/hyderabad-residential-property/buy-property-in-hyderabad-city?page=2\n",
      "https://www.makaan.com/hyderabad-residential-property/buy-property-in-hyderabad-city?page=3\n",
      "https://www.makaan.com/hyderabad-residential-property/buy-property-in-hyderabad-city?page=4\n",
      "https://www.makaan.com/hyderabad-residential-property/buy-property-in-hyderabad-city?page=5\n",
      "https://www.makaan.com/hyderabad-residential-property/buy-property-in-hyderabad-city?page=6\n",
      "https://www.makaan.com/hyderabad-residential-property/buy-property-in-hyderabad-city?page=7\n",
      "https://www.makaan.com/hyderabad-residential-property/buy-property-in-hyderabad-city?page=8\n",
      "https://www.makaan.com/hyderabad-residential-property/buy-property-in-hyderabad-city?page=9\n",
      "https://www.makaan.com/hyderabad-residential-property/buy-property-in-hyderabad-city?page=10\n",
      "https://www.makaan.com/hyderabad-residential-property/buy-property-in-hyderabad-city?page=11\n",
      "https://www.makaan.com/hyderabad-residential-property/buy-property-in-hyderabad-city?page=12\n",
      "https://www.makaan.com/hyderabad-residential-property/buy-property-in-hyderabad-city?page=13\n",
      "https://www.makaan.com/hyderabad-residential-property/buy-property-in-hyderabad-city?page=14\n",
      "https://www.makaan.com/hyderabad-residential-property/buy-property-in-hyderabad-city?page=15\n",
      "https://www.makaan.com/hyderabad-residential-property/buy-property-in-hyderabad-city?page=16\n",
      "https://www.makaan.com/hyderabad-residential-property/buy-property-in-hyderabad-city?page=17\n",
      "https://www.makaan.com/hyderabad-residential-property/buy-property-in-hyderabad-city?page=18\n",
      "https://www.makaan.com/hyderabad-residential-property/buy-property-in-hyderabad-city?page=19\n",
      "https://www.makaan.com/hyderabad-residential-property/buy-property-in-hyderabad-city?page=20\n"
     ]
    }
   ],
   "source": [
    "base_url=\"https://www.makaan.com/hyderabad-residential-property/buy-property-in-hyderabad-city?page=\" #----for getting pages-----\n",
    "for i in range(21):\n",
    "    print(base_url+str(i))"
   ]
  },
  {
   "cell_type": "code",
   "execution_count": null,
   "id": "e88a156e-26e6-4dfe-a758-356a7de797bd",
   "metadata": {},
   "outputs": [],
   "source": []
  }
 ],
 "metadata": {
  "kernelspec": {
   "display_name": "Python 3 (ipykernel)",
   "language": "python",
   "name": "python3"
  },
  "language_info": {
   "codemirror_mode": {
    "name": "ipython",
    "version": 3
   },
   "file_extension": ".py",
   "mimetype": "text/x-python",
   "name": "python",
   "nbconvert_exporter": "python",
   "pygments_lexer": "ipython3",
   "version": "3.11.9"
  }
 },
 "nbformat": 4,
 "nbformat_minor": 5
}
